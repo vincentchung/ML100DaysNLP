{
 "cells": [
  {
   "cell_type": "markdown",
   "metadata": {},
   "source": [
    "# isnumeric(), isdigit(), isdecimal() 各有幾個"
   ]
  },
  {
   "cell_type": "code",
   "execution_count": 1,
   "metadata": {},
   "outputs": [
    {
     "name": "stdout",
     "output_type": "stream",
     "text": [
      "isnumeric:4\n",
      "isdigit:2\n",
      "isdecimal:1\n"
     ]
    }
   ],
   "source": [
    "test_string = ['5.9', '30', '½', '³', '⑬']\n",
    "numeric=0\n",
    "digit=0\n",
    "decimal=0\n",
    "for i in range(len(test_string)):\n",
    "    if(test_string[i].isnumeric()):\n",
    "        numeric+=1\n",
    "    if(test_string[i].isdigit()):\n",
    "        digit+=1\n",
    "    if(test_string[i].isdecimal()):\n",
    "        decimal+=1\n",
    "\n",
    "print(\"isnumeric:\"+str(numeric))\n",
    "print(\"isdigit:\"+str(digit))\n",
    "print(\"isdecimal:\"+str(decimal))"
   ]
  },
  {
   "cell_type": "markdown",
   "metadata": {},
   "source": [
    "# 運用formatting 技巧 output\n",
    "* Accuracy: 98.13%, Recall: 94.88%, Precision: 96.29%"
   ]
  },
  {
   "cell_type": "code",
   "execution_count": 7,
   "metadata": {},
   "outputs": [
    {
     "name": "stdout",
     "output_type": "stream",
     "text": [
      "Accuracy:98.13%\n",
      "Recall:94.88%\n",
      "Precision:96.29%\n"
     ]
    }
   ],
   "source": [
    "accuracy = 98.129393\n",
    "recall =   94.879583\n",
    "precision =96.294821\n",
    "\n",
    "\n",
    "print(\"Accuracy:\"+'{:.2f}%'.format(accuracy))\n",
    "print(\"Recall:\"+'{:.2f}%'.format(recall))\n",
    "print(\"Precision:\"+'{:.2f}%'.format(precision))"
   ]
  },
  {
   "cell_type": "markdown",
   "metadata": {},
   "source": [
    "# 依照只是轉換number output format"
   ]
  },
  {
   "cell_type": "code",
   "execution_count": 9,
   "metadata": {},
   "outputs": [
    {
     "name": "stdout",
     "output_type": "stream",
     "text": [
      "pi:3.14\n"
     ]
    }
   ],
   "source": [
    "number = 3.1415926\n",
    "print(\"pi:\"+'{:.2f}'.format(number))"
   ]
  },
  {
   "cell_type": "markdown",
   "metadata": {},
   "source": [
    "# #### 轉換為科學符號表示法 (小數點後兩位)"
   ]
  },
  {
   "cell_type": "code",
   "execution_count": 13,
   "metadata": {},
   "outputs": [
    {
     "name": "stdout",
     "output_type": "stream",
     "text": [
      "pi:3.14e+00\n"
     ]
    }
   ],
   "source": [
    "print(\"pi:\"+'{:.2e}'.format(number))"
   ]
  },
  {
   "cell_type": "markdown",
   "metadata": {},
   "source": [
    "# 轉換為%"
   ]
  },
  {
   "cell_type": "code",
   "execution_count": 14,
   "metadata": {},
   "outputs": [
    {
     "name": "stdout",
     "output_type": "stream",
     "text": [
      "pi:314.16%\n"
     ]
    }
   ],
   "source": [
    "print(\"pi:\"+'{:.2%}'.format(number))"
   ]
  },
  {
   "cell_type": "markdown",
   "metadata": {},
   "source": [
    "# 補零成為3.14159300"
   ]
  },
  {
   "cell_type": "code",
   "execution_count": 29,
   "metadata": {
    "scrolled": true
   },
   "outputs": [
    {
     "name": "stdout",
     "output_type": "stream",
     "text": [
      "pi:3.141593  \n"
     ]
    }
   ],
   "source": [
    "print(\"pi:\"+'{:<10f}'.format(number))"
   ]
  },
  {
   "cell_type": "code",
   "execution_count": null,
   "metadata": {},
   "outputs": [],
   "source": []
  }
 ],
 "metadata": {
  "kernelspec": {
   "display_name": "Python 3",
   "language": "python",
   "name": "python3"
  },
  "language_info": {
   "codemirror_mode": {
    "name": "ipython",
    "version": 3
   },
   "file_extension": ".py",
   "mimetype": "text/x-python",
   "name": "python",
   "nbconvert_exporter": "python",
   "pygments_lexer": "ipython3",
   "version": "3.7.3"
  }
 },
 "nbformat": 4,
 "nbformat_minor": 2
}
